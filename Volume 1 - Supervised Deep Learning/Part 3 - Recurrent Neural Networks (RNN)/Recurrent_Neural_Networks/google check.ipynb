{
 "cells": [
  {
   "cell_type": "code",
   "execution_count": 1,
   "metadata": {},
   "outputs": [],
   "source": [
    "import pandas as pd\n",
    "import numpy as np\n",
    "import seaborn as sns\n",
    "import matplotlib.pyplot as mlt"
   ]
  },
  {
   "cell_type": "code",
   "execution_count": 2,
   "metadata": {},
   "outputs": [],
   "source": [
    "df = pd.read_csv('Google_Stock_Price_Train.csv')"
   ]
  },
  {
   "cell_type": "code",
   "execution_count": 3,
   "metadata": {},
   "outputs": [
    {
     "data": {
      "text/html": [
       "<div>\n",
       "<style scoped>\n",
       "    .dataframe tbody tr th:only-of-type {\n",
       "        vertical-align: middle;\n",
       "    }\n",
       "\n",
       "    .dataframe tbody tr th {\n",
       "        vertical-align: top;\n",
       "    }\n",
       "\n",
       "    .dataframe thead th {\n",
       "        text-align: right;\n",
       "    }\n",
       "</style>\n",
       "<table border=\"1\" class=\"dataframe\">\n",
       "  <thead>\n",
       "    <tr style=\"text-align: right;\">\n",
       "      <th></th>\n",
       "      <th>Date</th>\n",
       "      <th>Open</th>\n",
       "      <th>High</th>\n",
       "      <th>Low</th>\n",
       "      <th>Close</th>\n",
       "      <th>Volume</th>\n",
       "    </tr>\n",
       "  </thead>\n",
       "  <tbody>\n",
       "    <tr>\n",
       "      <th>0</th>\n",
       "      <td>1/3/2012</td>\n",
       "      <td>325.25</td>\n",
       "      <td>332.83</td>\n",
       "      <td>324.97</td>\n",
       "      <td>663.59</td>\n",
       "      <td>7,380,500</td>\n",
       "    </tr>\n",
       "    <tr>\n",
       "      <th>1</th>\n",
       "      <td>1/4/2012</td>\n",
       "      <td>331.27</td>\n",
       "      <td>333.87</td>\n",
       "      <td>329.08</td>\n",
       "      <td>666.45</td>\n",
       "      <td>5,749,400</td>\n",
       "    </tr>\n",
       "    <tr>\n",
       "      <th>2</th>\n",
       "      <td>1/5/2012</td>\n",
       "      <td>329.83</td>\n",
       "      <td>330.75</td>\n",
       "      <td>326.89</td>\n",
       "      <td>657.21</td>\n",
       "      <td>6,590,300</td>\n",
       "    </tr>\n",
       "    <tr>\n",
       "      <th>3</th>\n",
       "      <td>1/6/2012</td>\n",
       "      <td>328.34</td>\n",
       "      <td>328.77</td>\n",
       "      <td>323.68</td>\n",
       "      <td>648.24</td>\n",
       "      <td>5,405,900</td>\n",
       "    </tr>\n",
       "    <tr>\n",
       "      <th>4</th>\n",
       "      <td>1/9/2012</td>\n",
       "      <td>322.04</td>\n",
       "      <td>322.29</td>\n",
       "      <td>309.46</td>\n",
       "      <td>620.76</td>\n",
       "      <td>11,688,800</td>\n",
       "    </tr>\n",
       "  </tbody>\n",
       "</table>\n",
       "</div>"
      ],
      "text/plain": [
       "       Date    Open    High     Low   Close      Volume\n",
       "0  1/3/2012  325.25  332.83  324.97  663.59   7,380,500\n",
       "1  1/4/2012  331.27  333.87  329.08  666.45   5,749,400\n",
       "2  1/5/2012  329.83  330.75  326.89  657.21   6,590,300\n",
       "3  1/6/2012  328.34  328.77  323.68  648.24   5,405,900\n",
       "4  1/9/2012  322.04  322.29  309.46  620.76  11,688,800"
      ]
     },
     "execution_count": 3,
     "metadata": {},
     "output_type": "execute_result"
    }
   ],
   "source": [
    "df.head()"
   ]
  },
  {
   "cell_type": "code",
   "execution_count": 4,
   "metadata": {},
   "outputs": [],
   "source": [
    "ts = df['Open'].values"
   ]
  },
  {
   "cell_type": "code",
   "execution_count": 5,
   "metadata": {},
   "outputs": [],
   "source": [
    "ts = ts.reshape(-1,1)"
   ]
  },
  {
   "cell_type": "code",
   "execution_count": 6,
   "metadata": {},
   "outputs": [],
   "source": [
    "from sklearn.preprocessing import MinMaxScaler\n",
    "scaler = MinMaxScaler(feature_range =(0,1))\n",
    "scaler.fit(ts)\n",
    "ts = scaler.transform(ts)\n",
    "\n"
   ]
  },
  {
   "cell_type": "code",
   "execution_count": 7,
   "metadata": {},
   "outputs": [
    {
     "data": {
      "text/plain": [
       "array([[0.08581368],\n",
       "       [0.09701243],\n",
       "       [0.09433366],\n",
       "       ...,\n",
       "       [0.95725128],\n",
       "       [0.93796041],\n",
       "       [0.93688146]])"
      ]
     },
     "execution_count": 7,
     "metadata": {},
     "output_type": "execute_result"
    }
   ],
   "source": [
    "ts"
   ]
  },
  {
   "cell_type": "code",
   "execution_count": 8,
   "metadata": {},
   "outputs": [],
   "source": [
    "Old = []\n",
    "New = []\n",
    "for i in range(60,1258):\n",
    "    Old.append(ts[i-60:i,0])\n",
    "    New.append(ts[i, 0])"
   ]
  },
  {
   "cell_type": "code",
   "execution_count": 9,
   "metadata": {},
   "outputs": [],
   "source": [
    "Old,New = np.array(Old), np.array(New)"
   ]
  },
  {
   "cell_type": "code",
   "execution_count": 10,
   "metadata": {},
   "outputs": [
    {
     "data": {
      "text/plain": [
       "array([0.08627874, 0.08471612, 0.07454052, ..., 0.95725128, 0.93796041,\n",
       "       0.93688146])"
      ]
     },
     "execution_count": 10,
     "metadata": {},
     "output_type": "execute_result"
    }
   ],
   "source": [
    "New"
   ]
  },
  {
   "cell_type": "code",
   "execution_count": 11,
   "metadata": {},
   "outputs": [],
   "source": [
    "Old = np.reshape(Old ,(Old.shape[0],Old.shape[1],1))"
   ]
  },
  {
   "cell_type": "code",
   "execution_count": 24,
   "metadata": {},
   "outputs": [],
   "source": [
    "from keras.models import Sequential\n"
   ]
  },
  {
   "cell_type": "code",
   "execution_count": 25,
   "metadata": {},
   "outputs": [],
   "source": [
    "from keras.layers import Dense"
   ]
  },
  {
   "cell_type": "code",
   "execution_count": 27,
   "metadata": {},
   "outputs": [],
   "source": [
    "from keras.layers import Dropout\n",
    "from keras.layers import LSTM"
   ]
  },
  {
   "cell_type": "code",
   "execution_count": 28,
   "metadata": {},
   "outputs": [],
   "source": [
    "regressor = Sequential()"
   ]
  },
  {
   "cell_type": "code",
   "execution_count": 31,
   "metadata": {},
   "outputs": [],
   "source": [
    "regressor.add(LSTM(units =40, return_sequences=True,input_shape=(Old.shape[1],1)))\n",
    "regressor.add(Dropout(0.2))"
   ]
  },
  {
   "cell_type": "code",
   "execution_count": 33,
   "metadata": {},
   "outputs": [],
   "source": [
    "regressor.add(LSTM(units =40, return_sequences=True))\n",
    "regressor.add(Dropout(0.2))"
   ]
  },
  {
   "cell_type": "code",
   "execution_count": 35,
   "metadata": {},
   "outputs": [],
   "source": [
    "regressor.add(LSTM(units =40, return_sequences=True))\n",
    "regressor.add(Dropout(0.2))\n"
   ]
  },
  {
   "cell_type": "code",
   "execution_count": 36,
   "metadata": {},
   "outputs": [],
   "source": [
    "regressor.add(LSTM(units =40))"
   ]
  },
  {
   "cell_type": "code",
   "execution_count": 37,
   "metadata": {},
   "outputs": [],
   "source": [
    "regressor.add(Dense(units=1))"
   ]
  },
  {
   "cell_type": "code",
   "execution_count": 38,
   "metadata": {},
   "outputs": [],
   "source": [
    "regressor.compile(optimizer='adam',loss='mean_squared_error')"
   ]
  },
  {
   "cell_type": "code",
   "execution_count": 39,
   "metadata": {},
   "outputs": [
    {
     "name": "stdout",
     "output_type": "stream",
     "text": [
      "Epoch 1/120\n",
      "1198/1198 [==============================] - 11s 9ms/step - loss: 0.0656\n",
      "Epoch 2/120\n",
      "1198/1198 [==============================] - 6s 5ms/step - loss: 0.0044\n",
      "Epoch 3/120\n",
      "1198/1198 [==============================] - 6s 5ms/step - loss: 0.0035\n",
      "Epoch 4/120\n",
      "1198/1198 [==============================] - 5s 5ms/step - loss: 0.0036\n",
      "Epoch 5/120\n",
      "1198/1198 [==============================] - 5s 4ms/step - loss: 0.0035\n",
      "Epoch 6/120\n",
      "1198/1198 [==============================] - 5s 4ms/step - loss: 0.0031\n",
      "Epoch 7/120\n",
      "1198/1198 [==============================] - 5s 4ms/step - loss: 0.0032\n",
      "Epoch 8/120\n",
      "1198/1198 [==============================] - 5s 4ms/step - loss: 0.0030\n",
      "Epoch 9/120\n",
      "1198/1198 [==============================] - 5s 4ms/step - loss: 0.0029\n",
      "Epoch 10/120\n",
      "1198/1198 [==============================] - 5s 4ms/step - loss: 0.0032\n",
      "Epoch 11/120\n",
      "1198/1198 [==============================] - 5s 4ms/step - loss: 0.0026\n",
      "Epoch 12/120\n",
      "1198/1198 [==============================] - 5s 4ms/step - loss: 0.0031\n",
      "Epoch 13/120\n",
      "1198/1198 [==============================] - 5s 4ms/step - loss: 0.0027\n",
      "Epoch 14/120\n",
      "1198/1198 [==============================] - 5s 4ms/step - loss: 0.0027\n",
      "Epoch 15/120\n",
      "1198/1198 [==============================] - 5s 4ms/step - loss: 0.0026\n",
      "Epoch 16/120\n",
      "1198/1198 [==============================] - 6s 5ms/step - loss: 0.0028\n",
      "Epoch 17/120\n",
      "1198/1198 [==============================] - 5s 5ms/step - loss: 0.0032\n",
      "Epoch 18/120\n",
      "1198/1198 [==============================] - 5s 4ms/step - loss: 0.0025\n",
      "Epoch 19/120\n",
      "1198/1198 [==============================] - 5s 4ms/step - loss: 0.0022\n",
      "Epoch 20/120\n",
      "1198/1198 [==============================] - 5s 4ms/step - loss: 0.0021\n",
      "Epoch 21/120\n",
      "1198/1198 [==============================] - 5s 4ms/step - loss: 0.0022\n",
      "Epoch 22/120\n",
      "1198/1198 [==============================] - 5s 4ms/step - loss: 0.0021\n",
      "Epoch 23/120\n",
      "1198/1198 [==============================] - 5s 4ms/step - loss: 0.0021\n",
      "Epoch 24/120\n",
      "1198/1198 [==============================] - 5s 4ms/step - loss: 0.0021\n",
      "Epoch 25/120\n",
      "1198/1198 [==============================] - 6s 5ms/step - loss: 0.0019\n",
      "Epoch 26/120\n",
      "1198/1198 [==============================] - 5s 4ms/step - loss: 0.0020\n",
      "Epoch 27/120\n",
      "1198/1198 [==============================] - 5s 5ms/step - loss: 0.0020\n",
      "Epoch 28/120\n",
      "1198/1198 [==============================] - 5s 4ms/step - loss: 0.0018\n",
      "Epoch 29/120\n",
      "1198/1198 [==============================] - 5s 4ms/step - loss: 0.0020\n",
      "Epoch 30/120\n",
      "1198/1198 [==============================] - 5s 4ms/step - loss: 0.0020\n",
      "Epoch 31/120\n",
      "1198/1198 [==============================] - 5s 4ms/step - loss: 0.0019\n",
      "Epoch 32/120\n",
      "1198/1198 [==============================] - 5s 4ms/step - loss: 0.0017\n",
      "Epoch 33/120\n",
      "1198/1198 [==============================] - 5s 4ms/step - loss: 0.0018\n",
      "Epoch 34/120\n",
      "1198/1198 [==============================] - 5s 4ms/step - loss: 0.0020\n",
      "Epoch 35/120\n",
      "1198/1198 [==============================] - 5s 4ms/step - loss: 0.0021\n",
      "Epoch 36/120\n",
      "1198/1198 [==============================] - 6s 5ms/step - loss: 0.0023\n",
      "Epoch 37/120\n",
      "1198/1198 [==============================] - 6s 5ms/step - loss: 0.0016\n",
      "Epoch 38/120\n",
      "1198/1198 [==============================] - 5s 4ms/step - loss: 0.0015\n",
      "Epoch 39/120\n",
      "1198/1198 [==============================] - 5s 4ms/step - loss: 0.0016\n",
      "Epoch 40/120\n",
      "1198/1198 [==============================] - 5s 4ms/step - loss: 0.0016\n",
      "Epoch 41/120\n",
      "1198/1198 [==============================] - 5s 4ms/step - loss: 0.0015\n",
      "Epoch 42/120\n",
      "1198/1198 [==============================] - 5s 4ms/step - loss: 0.0015\n",
      "Epoch 43/120\n",
      "1198/1198 [==============================] - 5s 4ms/step - loss: 0.0015\n",
      "Epoch 44/120\n",
      "1198/1198 [==============================] - 5s 5ms/step - loss: 0.0015\n",
      "Epoch 45/120\n",
      "1198/1198 [==============================] - 5s 4ms/step - loss: 0.0016\n",
      "Epoch 46/120\n",
      "1198/1198 [==============================] - 5s 4ms/step - loss: 0.0013\n",
      "Epoch 47/120\n",
      "1198/1198 [==============================] - 5s 4ms/step - loss: 0.0015\n",
      "Epoch 48/120\n",
      "1198/1198 [==============================] - 5s 4ms/step - loss: 0.0016\n",
      "Epoch 49/120\n",
      "1198/1198 [==============================] - 5s 4ms/step - loss: 0.0017\n",
      "Epoch 50/120\n",
      "1198/1198 [==============================] - 5s 4ms/step - loss: 0.0015\n",
      "Epoch 51/120\n",
      "1198/1198 [==============================] - 5s 4ms/step - loss: 0.0013\n",
      "Epoch 52/120\n",
      "1198/1198 [==============================] - 5s 4ms/step - loss: 0.0012\n",
      "Epoch 53/120\n",
      "1198/1198 [==============================] - 5s 4ms/step - loss: 0.0014\n",
      "Epoch 54/120\n",
      "1198/1198 [==============================] - 5s 4ms/step - loss: 0.0013\n",
      "Epoch 55/120\n",
      "1198/1198 [==============================] - 5s 5ms/step - loss: 0.0012\n",
      "Epoch 56/120\n",
      "1198/1198 [==============================] - 5s 4ms/step - loss: 0.0013\n",
      "Epoch 57/120\n",
      "1198/1198 [==============================] - 5s 4ms/step - loss: 0.0012\n",
      "Epoch 58/120\n",
      "1198/1198 [==============================] - 5s 4ms/step - loss: 0.0012\n",
      "Epoch 59/120\n",
      "1198/1198 [==============================] - 6s 5ms/step - loss: 0.0012\n",
      "Epoch 60/120\n",
      "1198/1198 [==============================] - 6s 5ms/step - loss: 0.0012\n",
      "Epoch 61/120\n",
      "1198/1198 [==============================] - 6s 5ms/step - loss: 0.0010\n",
      "Epoch 62/120\n",
      "1198/1198 [==============================] - 7s 6ms/step - loss: 0.0011\n",
      "Epoch 63/120\n",
      "1198/1198 [==============================] - 6s 5ms/step - loss: 9.9627e-04\n",
      "Epoch 64/120\n",
      "1198/1198 [==============================] - 5s 4ms/step - loss: 0.0011\n",
      "Epoch 65/120\n",
      "1198/1198 [==============================] - 5s 4ms/step - loss: 0.0010\n",
      "Epoch 66/120\n",
      "1198/1198 [==============================] - 5s 5ms/step - loss: 0.0010\n",
      "Epoch 67/120\n",
      "1198/1198 [==============================] - 5s 4ms/step - loss: 0.0011\n",
      "Epoch 68/120\n",
      "1198/1198 [==============================] - 5s 4ms/step - loss: 0.0010\n",
      "Epoch 69/120\n",
      "1198/1198 [==============================] - 5s 4ms/step - loss: 0.0010\n",
      "Epoch 70/120\n",
      "1198/1198 [==============================] - 5s 4ms/step - loss: 9.6162e-04\n",
      "Epoch 71/120\n",
      "1198/1198 [==============================] - 5s 4ms/step - loss: 9.2905e-04\n",
      "Epoch 72/120\n",
      "1198/1198 [==============================] - 5s 4ms/step - loss: 9.6080e-04\n",
      "Epoch 73/120\n",
      "1198/1198 [==============================] - 5s 4ms/step - loss: 0.0011\n",
      "Epoch 74/120\n",
      "1198/1198 [==============================] - 5s 4ms/step - loss: 9.9286e-04\n",
      "Epoch 75/120\n",
      "1198/1198 [==============================] - 5s 4ms/step - loss: 9.0433e-04\n",
      "Epoch 76/120\n",
      "1198/1198 [==============================] - 5s 4ms/step - loss: 9.0677e-04\n",
      "Epoch 77/120\n",
      "1198/1198 [==============================] - 5s 4ms/step - loss: 0.0010\n",
      "Epoch 78/120\n",
      "1198/1198 [==============================] - 5s 4ms/step - loss: 8.4865e-04\n",
      "Epoch 79/120\n",
      "1198/1198 [==============================] - 6s 5ms/step - loss: 8.0865e-04\n",
      "Epoch 80/120\n",
      "1198/1198 [==============================] - 5s 4ms/step - loss: 0.0010\n",
      "Epoch 81/120\n",
      "1198/1198 [==============================] - 6s 5ms/step - loss: 9.4957e-04\n",
      "Epoch 82/120\n",
      "1198/1198 [==============================] - 6s 5ms/step - loss: 0.0010\n",
      "Epoch 83/120\n",
      "1198/1198 [==============================] - 6s 5ms/step - loss: 9.5437e-04\n",
      "Epoch 84/120\n",
      "1198/1198 [==============================] - 5s 4ms/step - loss: 0.0011\n",
      "Epoch 85/120\n",
      "1198/1198 [==============================] - 5s 4ms/step - loss: 8.6903e-04\n",
      "Epoch 86/120\n",
      "1198/1198 [==============================] - 5s 4ms/step - loss: 9.5040e-04\n",
      "Epoch 87/120\n",
      "1198/1198 [==============================] - 5s 4ms/step - loss: 8.9537e-04\n",
      "Epoch 88/120\n",
      "1198/1198 [==============================] - 5s 4ms/step - loss: 8.8188e-04\n",
      "Epoch 89/120\n",
      "1198/1198 [==============================] - 5s 4ms/step - loss: 8.1944e-04\n",
      "Epoch 90/120\n",
      "1198/1198 [==============================] - 7s 6ms/step - loss: 9.1002e-04\n",
      "Epoch 91/120\n",
      "1198/1198 [==============================] - 6s 5ms/step - loss: 7.9172e-04\n",
      "Epoch 92/120\n",
      "1198/1198 [==============================] - 6s 5ms/step - loss: 8.5194e-04\n",
      "Epoch 93/120\n",
      "1198/1198 [==============================] - 5s 5ms/step - loss: 8.9651e-04\n",
      "Epoch 94/120\n",
      "1198/1198 [==============================] - 5s 4ms/step - loss: 9.6485e-04\n",
      "Epoch 95/120\n",
      "1198/1198 [==============================] - 5s 4ms/step - loss: 7.4097e-04\n",
      "Epoch 96/120\n"
     ]
    },
    {
     "name": "stdout",
     "output_type": "stream",
     "text": [
      "1198/1198 [==============================] - 5s 4ms/step - loss: 8.0048e-04\n",
      "Epoch 97/120\n",
      "1198/1198 [==============================] - 5s 4ms/step - loss: 8.3382e-04\n",
      "Epoch 98/120\n",
      "1198/1198 [==============================] - 5s 4ms/step - loss: 8.1260e-04\n",
      "Epoch 99/120\n",
      "1198/1198 [==============================] - 5s 4ms/step - loss: 8.6853e-04\n",
      "Epoch 100/120\n",
      "1198/1198 [==============================] - 5s 4ms/step - loss: 7.6338e-04\n",
      "Epoch 101/120\n",
      "1198/1198 [==============================] - 5s 4ms/step - loss: 6.9583e-04\n",
      "Epoch 102/120\n",
      "1198/1198 [==============================] - 5s 4ms/step - loss: 7.2547e-04\n",
      "Epoch 103/120\n",
      "1198/1198 [==============================] - 5s 4ms/step - loss: 7.0603e-04\n",
      "Epoch 104/120\n",
      "1198/1198 [==============================] - 5s 5ms/step - loss: 8.9192e-04\n",
      "Epoch 105/120\n",
      "1198/1198 [==============================] - 5s 4ms/step - loss: 7.4672e-04\n",
      "Epoch 106/120\n",
      "1198/1198 [==============================] - 5s 4ms/step - loss: 7.7250e-04\n",
      "Epoch 107/120\n",
      "1198/1198 [==============================] - 5s 4ms/step - loss: 6.7273e-04\n",
      "Epoch 108/120\n",
      "1198/1198 [==============================] - 6s 5ms/step - loss: 9.3460e-04\n",
      "Epoch 109/120\n",
      "1198/1198 [==============================] - 6s 5ms/step - loss: 7.6049e-04\n",
      "Epoch 110/120\n",
      "1198/1198 [==============================] - 6s 5ms/step - loss: 8.7959e-04\n",
      "Epoch 111/120\n",
      "1198/1198 [==============================] - 6s 5ms/step - loss: 7.5772e-04\n",
      "Epoch 112/120\n",
      "1198/1198 [==============================] - 6s 5ms/step - loss: 7.2438e-04\n",
      "Epoch 113/120\n",
      "1198/1198 [==============================] - 6s 5ms/step - loss: 7.0794e-04\n",
      "Epoch 114/120\n",
      "1198/1198 [==============================] - 5s 4ms/step - loss: 7.1412e-04\n",
      "Epoch 115/120\n",
      "1198/1198 [==============================] - 6s 5ms/step - loss: 7.5117e-04\n",
      "Epoch 116/120\n",
      "1198/1198 [==============================] - 5s 4ms/step - loss: 7.9721e-04\n",
      "Epoch 117/120\n",
      "1198/1198 [==============================] - 5s 4ms/step - loss: 6.3624e-04\n",
      "Epoch 118/120\n",
      "1198/1198 [==============================] - 6s 5ms/step - loss: 6.5994e-04\n",
      "Epoch 119/120\n",
      "1198/1198 [==============================] - 6s 5ms/step - loss: 7.1333e-04\n",
      "Epoch 120/120\n",
      "1198/1198 [==============================] - 5s 4ms/step - loss: 7.7045e-04\n"
     ]
    },
    {
     "data": {
      "text/plain": [
       "<keras.callbacks.History at 0x7efbe18adc50>"
      ]
     },
     "execution_count": 39,
     "metadata": {},
     "output_type": "execute_result"
    }
   ],
   "source": [
    "regressor.fit(Old,New,epochs=120,batch_size=32)"
   ]
  },
  {
   "cell_type": "code",
   "execution_count": 40,
   "metadata": {},
   "outputs": [],
   "source": [
    "test = pd.read_csv('Google_Stock_Price_Test.csv')"
   ]
  },
  {
   "cell_type": "code",
   "execution_count": 41,
   "metadata": {},
   "outputs": [],
   "source": [
    "real =test.iloc[:,1:2].values"
   ]
  },
  {
   "cell_type": "code",
   "execution_count": 42,
   "metadata": {},
   "outputs": [
    {
     "data": {
      "text/plain": [
       "array([[778.81],\n",
       "       [788.36],\n",
       "       [786.08],\n",
       "       [795.26],\n",
       "       [806.4 ],\n",
       "       [807.86],\n",
       "       [805.  ],\n",
       "       [807.14],\n",
       "       [807.48],\n",
       "       [807.08],\n",
       "       [805.81],\n",
       "       [805.12],\n",
       "       [806.91],\n",
       "       [807.25],\n",
       "       [822.3 ],\n",
       "       [829.62],\n",
       "       [837.81],\n",
       "       [834.71],\n",
       "       [814.66],\n",
       "       [796.86]])"
      ]
     },
     "execution_count": 42,
     "metadata": {},
     "output_type": "execute_result"
    }
   ],
   "source": [
    "real"
   ]
  },
  {
   "cell_type": "code",
   "execution_count": 46,
   "metadata": {},
   "outputs": [],
   "source": [
    "dataset_total = pd.concat((df['Open'], test['Open']), axis = 0)\n",
    "inputs = dataset_total[len(dataset_total) - len(test) - 60:].values\n",
    "inputs = inputs.reshape(-1,1)\n",
    "inputs = scaler.transform(inputs)\n",
    "X_test = []\n",
    "for i in range(60, 80):\n",
    "    X_test.append(inputs[i-60:i, 0])\n",
    "X_test = np.array(X_test)\n",
    "X_test = np.reshape(X_test, (X_test.shape[0], X_test.shape[1], 1))\n",
    "predicted_stock_price = regressor.predict(X_test)\n",
    "predicted_stock_price = scaler.inverse_transform(predicted_stock_price)\n",
    "\n"
   ]
  },
  {
   "cell_type": "code",
   "execution_count": 49,
   "metadata": {},
   "outputs": [
    {
     "data": {
      "image/png": "[encoded data removed]",
      "text/plain": [
       "<Figure size 432x288 with 1 Axes>"
      ]
     },
     "metadata": {},
     "output_type": "display_data"
    }
   ],
   "source": [
    "mlt.plot(real, color = 'red', label = 'Real Google Stock Price')\n",
    "mlt.plot(predicted_stock_price, color = 'blue', label = 'Predicted Google Stock Price')\n",
    "mlt.title('Google Stock Price Prediction')\n",
    "mlt.xlabel('Time')\n",
    "mlt.ylabel('Google Stock Price')\n",
    "mlt.legend()\n",
    "mlt.show()"
   ]
  },
  {
   "cell_type": "code",
   "execution_count": null,
   "metadata": {},
   "outputs": [],
   "source": []
  }
 ],
 "metadata": {
  "kernelspec": {
   "display_name": "Python 3",
   "language": "python",
   "name": "python3"
  },
  "language_info": {
   "codemirror_mode": {
    "name": "ipython",
    "version": 3
   },
   "file_extension": ".py",
   "mimetype": "text/x-python",
   "name": "python",
   "nbconvert_exporter": "python",
   "pygments_lexer": "ipython3",
   "version": "3.5.5"
  }
 },
 "nbformat": 4,
 "nbformat_minor": 2
}
